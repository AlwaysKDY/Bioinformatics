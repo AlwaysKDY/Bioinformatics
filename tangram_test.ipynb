{
 "cells": [
  {
   "cell_type": "markdown",
   "metadata": {
    "id": "qRHquhMbRk22"
   },
   "source": [
    "# Tutorial for mapping data with Tangram\n",
    "by Tommaso Biancalani <biancalt@gene.com> and Ziqing Lu <luz21@gene.com>\n",
    "\n",
    "- The notebook introduces to mapping single cell data on spatial data  using the Tangram method.\n",
    "- The notebook uses data from mouse brain cortex (different than those adopted in the manuscript).\n",
    "\n",
    "#### Last changelog\n",
    "- June 13th - Tommaso Biancalani <biancalt@gene.com>"
   ]
  },
  {
   "cell_type": "markdown",
   "metadata": {
    "id": "3jGQFkdURk24"
   },
   "source": [
    "***\n",
    "#### Installation"
   ]
  },
  {
   "cell_type": "markdown",
   "source": [],
   "metadata": {
    "collapsed": false
   }
  },
  {
   "cell_type": "markdown",
   "metadata": {
    "id": "2wc4YpzNRk25"
   },
   "source": [
    "- Make sure `tangram-sc` is installed via `pip install tangram-sc`.\n",
    "- Otherwise, edit and uncomment the line starting with `sys.path` specifying the Tangram folder.\n",
    "- The Python environment needs to install the packages listed in `environment.yml`."
   ]
  },
  {
   "cell_type": "code",
   "execution_count": null,
   "metadata": {
    "id": "tEIfT_1YRk25",
    "outputId": "99783bdf-71e5-4f64-f9b8-ec9d306f9575",
    "ExecuteTime": {
     "start_time": "2023-10-13T05:43:52.151179600Z"
    }
   },
   "outputs": [],
   "source": [
    "import os, sys\n",
    "import numpy as np\n",
    "import pandas as pd\n",
    "import matplotlib.pyplot as plt\n",
    "import seaborn as sns\n",
    "import scanpy as sc\n",
    "import torch\n",
    "sys.path.append('./')  # uncomment for local import\n",
    "import tg\n",
    "\n",
    "\n",
    "%load_ext autoreload\n",
    "%autoreload 2\n",
    "%matplotlib inline\n",
    "\n",
    "origin_path = \"/home/zbdc/github/sc_Data/Mop/\""
   ]
  },
  {
   "cell_type": "markdown",
   "metadata": {
    "id": "fdss_i7bRk26"
   },
   "source": [
    "***\n",
    "#### Download the data\n",
    "- If you have `wget` installed, you can run the following code to automatically download and unzip the data."
   ]
  },
  {
   "cell_type": "code",
   "execution_count": null,
   "metadata": {
    "id": "nzWYUmkhRk27",
    "outputId": "5ee09f66-c412-49a7-ceb6-dfcdc8b40e3d",
    "ExecuteTime": {
     "start_time": "2023-10-13T05:43:52.153187600Z"
    }
   },
   "outputs": [],
   "source": [
    "# Skip this cells if data are already downloaded\n",
    "# !wget https://storage.googleapis.com/tommaso-brain-data/tangram_demo/mop_sn_tutorial.h5ad.gz -O data/mop_sn_tutorial.h5ad.gz\n",
    "# !wget https://storage.googleapis.com/tommaso-brain-data/tangram_demo/slideseq_MOp_1217.h5ad.gz -O data/slideseq_MOp_1217.h5ad.gz\n",
    "# !wget https://storage.googleapis.com/tommaso-brain-data/tangram_demo/MOp_markers.csv -O data/MOp_markers.csv\n",
    "# !gunzip -f data/mop_sn_tutorial.h5ad.gz\n",
    "# !gunzip -f data/slideseq_MOp_1217.h5ad.gz"
   ]
  },
  {
   "cell_type": "markdown",
   "metadata": {
    "id": "Y93BWMUTRk27"
   },
   "source": [
    "- If you do not have `wget` installed, manually download data from the links below:\n",
    "    - snRNA-seq datasets collected from adult mouse cortex:  [10Xv3 MOp](https://storage.googleapis.com/tommaso-brain-data/tangram_demo/mop_sn_tutorial.h5ad.gz).\n",
    "    - For spatial data, we will use one coronal slice of [Slide-seq2 data](\n",
    "https://storage.googleapis.com/tommaso-brain-data/tangram_demo/slideseq_MOp_1217.h5ad.gz) (adult mouse brain; MOp area).\n",
    "    - We will map them via a few hundred [marker genes](https://storage.googleapis.com/tommaso-brain-data/tangram_demo/MOp_markers.csv), found in [literature](https://www.biorxiv.org/content/10.1101/2020.06.04.105700v1).\n",
    "    - All datasets need to be unzipped: resulting `h5ad` and `csv` files should be placed in the `data` folder."
   ]
  },
  {
   "cell_type": "markdown",
   "metadata": {
    "id": "0M8n0UwbRk28"
   },
   "source": [
    "***\n",
    "#### Load spatial data\n",
    "- Spatial data need to be organized as a voxel-by-gene matrix. Here, Slide-seq data contains 9852 spatial voxels, in each of which there are 24518 genes measured."
   ]
  },
  {
   "cell_type": "code",
   "execution_count": null,
   "metadata": {
    "id": "FCRCHnxWRk28",
    "outputId": "e6b179c9-3d81-4786-8ade-d2b6de74b697",
    "ExecuteTime": {
     "start_time": "2023-10-13T05:43:52.197179200Z"
    }
   },
   "outputs": [],
   "source": [
    "path = os.path.join(origin_path, 'slideseq_MOp_1217.h5ad')\n",
    "ad_sp = sc.read_h5ad(path)\n",
    "ad_sp"
   ]
  },
  {
   "cell_type": "markdown",
   "metadata": {
    "id": "OKR4wn8ARk28"
   },
   "source": [
    "- The voxel coordinates are saved in the fields `obs.x` and `obs.y` which we can use to visualize the spatial ROI. Each \"dot\" is the center of a 10um voxel."
   ]
  },
  {
   "cell_type": "code",
   "execution_count": null,
   "metadata": {
    "id": "kHW2CYlDRk29",
    "outputId": "e55affae-deed-4724-d902-bd6e7498dfb8",
    "ExecuteTime": {
     "start_time": "2023-10-13T05:43:52.198175800Z"
    }
   },
   "outputs": [],
   "source": [
    "xs = ad_sp.obs.x.values\n",
    "ys = ad_sp.obs.y.values\n",
    "plt.axis('off')\n",
    "plt.scatter(xs, ys, s=.7)\n",
    "plt.gca().invert_yaxis()"
   ]
  },
  {
   "cell_type": "markdown",
   "metadata": {
    "id": "rBMwlo3TRk29"
   },
   "source": [
    "***\n",
    "#### Single cell data\n",
    "\n",
    "- By single cell data, we generally mean either scRNAseq or snRNAseq.\n",
    "- We start by mapping the MOp 10Xv3 dataset, which contains single nuclei collected from a posterior region of the primary motor cortex.\n",
    "- They are approximately 26k profiled cells with 28k genes."
   ]
  },
  {
   "cell_type": "code",
   "execution_count": null,
   "metadata": {
    "id": "8pDPO0BeRk29",
    "outputId": "07e62277-769b-46f0-86df-beb9018972e8",
    "ExecuteTime": {
     "start_time": "2023-10-13T05:43:52.198175800Z"
    }
   },
   "outputs": [],
   "source": [
    "path = os.path.join(origin_path,'mop_sn_tutorial.h5ad')\n",
    "ad_sc = sc.read_h5ad(path)\n",
    "ad_sc"
   ]
  },
  {
   "cell_type": "markdown",
   "metadata": {
    "id": "wWg6V5fCRk2-"
   },
   "source": [
    "- Usually, we work with data in raw count form, especially if the spatial data are in raw count form as well.\n",
    "- If the data are in integer format, that probably means they are in raw count."
   ]
  },
  {
   "cell_type": "code",
   "execution_count": null,
   "metadata": {
    "id": "YT4mNBCVRk2-",
    "outputId": "815bf508-eca6-46b9-a309-4b954eed1cbf",
    "ExecuteTime": {
     "start_time": "2023-10-13T05:43:52.198175800Z"
    }
   },
   "outputs": [],
   "source": [
    "np.unique(ad_sc.X.toarray()[0, :])"
   ]
  },
  {
   "cell_type": "markdown",
   "metadata": {
    "id": "Ib3xjMJGRk2-"
   },
   "source": [
    "- Here, we only do some light pre-processing as library size correction (in scanpy, via `sc.pp.normalize`) to normalize the number of count within each cell to a fixed number.\n",
    "- Sometimes, we apply more sophisticated pre-processing methods, for example for batch correction, although mapping works great with raw data.\n",
    "- Ideally, the single cell and spatial datasets, should exhibit signals as similar as possible and the pre-processing pipeline should be finalized to harmonize the signals."
   ]
  },
  {
   "cell_type": "code",
   "execution_count": null,
   "metadata": {
    "id": "DyY6iroXRk2-",
    "ExecuteTime": {
     "start_time": "2023-10-13T05:43:52.198175800Z"
    }
   },
   "outputs": [],
   "source": [
    "sc.pp.normalize_total(ad_sc)"
   ]
  },
  {
   "cell_type": "markdown",
   "metadata": {
    "id": "JTrlyv5JRk2_"
   },
   "source": [
    "- It is a good idea to have annotations in the single cell data, as they will be projected on space after we map.\n",
    "- In this case, cell types are annotated in the `subclass_label` field, for which we plot cell counts.\n",
    "- Note that cell type proportion should be similar in the two datasets: for example, if `Meis` is a rare cell type in the snRNA-seq then it is expected to be a rare one even in the spatial data as well."
   ]
  },
  {
   "cell_type": "code",
   "execution_count": null,
   "metadata": {
    "id": "G_VAlYuyRk2_",
    "outputId": "db4a32b4-64e0-4608-cab6-45525126d4f3",
    "ExecuteTime": {
     "start_time": "2023-10-13T05:43:52.198175800Z"
    }
   },
   "outputs": [],
   "source": [
    "ad_sc.obs.subclass_label.value_counts()"
   ]
  },
  {
   "cell_type": "markdown",
   "metadata": {
    "id": "Uvr0-bi_Rk2_"
   },
   "source": [
    "***\n",
    "#### Prepare to map"
   ]
  },
  {
   "cell_type": "markdown",
   "metadata": {
    "id": "kHXAsK0WRk2_"
   },
   "source": [
    "- Tangram learns a spatial alignment of the single cell data so that  _the gene expression of the aligned single cell data is as similar as possible to that of the spatial data_.\n",
    "- In doing this, Tangram only looks at a subset genes, specified by the user, called the training genes.\n",
    "- The choice of the training genes is a delicate step for mapping: they need to bear interesting signals and to be measured with high quality.\n",
    "- Typically, a good start is to choose 100-1000 top marker genes, evenly stratified across cell types. Sometimes, we also use the entire transcriptome, or perform different mappings using different set of training genes to see how much the result change.\n",
    "- For this case, we choose 253 marker genes of the MOp area which were curated [in a different study](https://www.biorxiv.org/content/10.1101/2020.06.04.105700v1).\n"
   ]
  },
  {
   "cell_type": "code",
   "execution_count": null,
   "metadata": {
    "id": "6tW2Yk2fRk3A",
    "outputId": "c85547d6-783e-41de-9721-b2c74b9e0e60",
    "ExecuteTime": {
     "start_time": "2023-10-13T05:43:52.199176600Z"
    }
   },
   "outputs": [],
   "source": [
    "df_genes = pd.read_csv(origin_path + 'MOp_markers.csv', index_col=0)\n",
    "markers = np.reshape(df_genes.values, (-1, ))\n",
    "markers = list(markers)\n",
    "len(markers)"
   ]
  },
  {
   "cell_type": "markdown",
   "metadata": {
    "id": "B8ps6XoyRk3A"
   },
   "source": [
    "- We now need to prepare the datasets for mapping by creating `training_genes` field in `uns` dictionary of the two AnnData structures. \n",
    "- This `training_genes` field contains genes subset on the list of training genes. This field will be used later inside the mapping function to create training datasets.\n",
    "- Also, the gene order needs to be the same in the datasets. This is because Tangram maps using only gene expression, so the $j$-th column in each matrix must correspond to the same gene.\n",
    "- And if data entries of a gene are all zero, this gene will be removed\n",
    "- This task is performed by the helper `pp_adatas`.\n",
    "- In the pp_adatas function, the gene names are converted to lower case to get rid of the inconsistent capitalization. If this is not wanted, you can set the parameter gene_to_lowercase = False "
   ]
  },
  {
   "cell_type": "code",
   "execution_count": null,
   "metadata": {
    "id": "aacPVNwcRk3A",
    "outputId": "265e053d-c3c3-49c9-ac28-080dce851143",
    "ExecuteTime": {
     "start_time": "2023-10-13T05:43:52.199176600Z"
    }
   },
   "outputs": [],
   "source": [
    "tg.pp_adatas(ad_sc, ad_sp, genes=markers)"
   ]
  },
  {
   "cell_type": "markdown",
   "metadata": {
    "id": "ogpnv4agRk3A"
   },
   "source": [
    "- You'll now notice that the two datasets now contain 249 genes, but 253 markers were provided.\n",
    "- This is because the marker genes need to be shared by both dataset. If a gene is missing, `pp_adatas` will just take it out.\n",
    "- Finally, the `assert` line below is a good way to ensure that the genes in the `training_genes` field in `uns` are actually ordered in both `AnnData`s."
   ]
  },
  {
   "cell_type": "code",
   "execution_count": null,
   "metadata": {
    "id": "OaPeda1zRk3B",
    "outputId": "d9de5f76-0602-4c8d-f21e-de78c3f6f04f",
    "ExecuteTime": {
     "start_time": "2023-10-13T05:43:52.199176600Z"
    }
   },
   "outputs": [],
   "source": [
    "ad_sc"
   ]
  },
  {
   "cell_type": "code",
   "execution_count": null,
   "metadata": {
    "id": "EvDXn9x2Rk3B",
    "outputId": "ffb28b9d-994b-4537-d61d-d47fc952a725",
    "ExecuteTime": {
     "start_time": "2023-10-13T05:43:52.199176600Z"
    }
   },
   "outputs": [],
   "source": [
    "ad_sp"
   ]
  },
  {
   "cell_type": "code",
   "execution_count": null,
   "metadata": {
    "id": "hofqYP8cRk3B",
    "ExecuteTime": {
     "start_time": "2023-10-13T05:43:52.199176600Z"
    }
   },
   "outputs": [],
   "source": [
    "assert ad_sc.uns['training_genes'] == ad_sp.uns['training_genes']"
   ]
  },
  {
   "cell_type": "markdown",
   "metadata": {
    "id": "OrJgYOyeRk3B"
   },
   "source": [
    "***\n",
    "#### Map"
   ]
  },
  {
   "cell_type": "markdown",
   "metadata": {
    "id": "mp4eGNPCRk3B"
   },
   "source": [
    "- We can now train the model (_ie_ map the single cell data onto space).\n",
    "- Mapping should be interrupted after the score plateaus,which can be controlled by passing the `num_epochs` parameter. \n",
    "- The score measures the similarity between the gene expression of the mapped cells vs spatial data: higher score means better mapping.\n",
    "- Note that we obtained excellent mapping even if Tangram converges to a low scores (the typical case is when the spatial data are very sparse): we use the score merely to assess convergence.\n",
    "- If you are running Tangram with a GPU, uncomment `device=cuda:0` and comment the line `device=cpu`. On a MacBook Pro 2018, it takes ~1h to run. On a P100 GPU it should be done in a few minutes.\n",
    "- For this basic mapping, we do not use regularizers. More sophisticated loss functions can be used using the Tangram library (refer to manuscript or dive into the code). For example, you can pass your `density_prior` with the hyperparameter `lambda_d` to regularize the spatial density of cells. Currently `uniform`, `rna_count_based` and customized input array are supported for `density_prior` argument.\n",
    "- Instead of mapping single cells, we can \"average\" the cells within a cluster and map the averaged cells instead, which drammatically improves performances. This suggestion was proposed by Sten Linnarsson. To activate this mode, select `mode='clusters'` and pass the annotation field to `cluster_label`."
   ]
  },
  {
   "cell_type": "code",
   "execution_count": null,
   "metadata": {
    "id": "qPfw-v00Rk3C",
    "outputId": "e48516fd-c7ea-4c04-dc8b-860f58f5ce3c",
    "ExecuteTime": {
     "start_time": "2023-10-13T05:43:52.199176600Z"
    }
   },
   "outputs": [],
   "source": [
    "ad_map = tg.map_cells_to_space(\n",
    "    adata_sc=ad_sc,\n",
    "    adata_sp=ad_sp,\n",
    "    #device='cpu',\n",
    "    device='cuda:0',\n",
    ")"
   ]
  },
  {
   "cell_type": "markdown",
   "metadata": {
    "id": "7ruh7eqPRk3C"
   },
   "source": [
    "- The mapping results are stored in the returned `AnnData` structure, saved as `ad_map`, structured as following:\n",
    "    - The cell-by-spot matrix `X` contains the probability of cell $i$ to be in spot $j$.\n",
    "    - The `obs` dataframe contains the metadata of the single cells.\n",
    "    - The `var` dataframe contains the metadata of the spatial data.\n",
    "    - The `uns` dictionary contains a dataframe with various information about the training genes (saved ad `train_genes_df`).\n",
    "- We can now save the mapping results for post-analysis."
   ]
  },
  {
   "cell_type": "markdown",
   "metadata": {
    "id": "VoWStRB2Rk3C"
   },
   "source": [
    "***\n",
    "#### Analysis"
   ]
  },
  {
   "cell_type": "markdown",
   "metadata": {
    "id": "pSsr1eDPRk3C"
   },
   "source": [
    "- The most common application for mapping single cell data onto space is to transfer the cell type annotations onto space.\n",
    "- This is dona via `plot_cell_annotation`, which visualizes spatial probability maps of the `annotation` in the `obs` dataframe (here, the `subclass_label` field). You can set `robust` argument to `True` and at the same time set the `perc` argument to set the range to the colormap, which would help remove outliers.\n",
    "- The following plots recover cortical layers of excitatory neurons and sparse patterns of glia cells. The boundaries of the cortex are defined by layer 6b (cell type _L6b_) and oligodendrocytes are found concentrated into sub-cortical region, as expected.\n",
    "- Yet, the _VLMC_ cell type patterns does not seem correct: _VLMC_ cells are clustered in the first cortical layer, whereas here are sparse in the ROI. This usually means that either (1) we have not used good marker genes for _VLMC_ cells in our training genes (2) the present marker genes are very sparse in the spatial data, therefore they don't contain good mapping signal."
   ]
  },
  {
   "cell_type": "code",
   "execution_count": null,
   "metadata": {
    "id": "ypVHajoYRk3C",
    "outputId": "22cfcda0-58ba-4cfb-9db5-dac6454c35ef",
    "tags": [
     "nbsphinx-thumbnail"
    ],
    "ExecuteTime": {
     "start_time": "2023-10-13T05:43:52.199176600Z"
    }
   },
   "outputs": [],
   "source": [
    "tg.project_cell_annotations(ad_map, ad_sp, annotation='subclass_label')\n",
    "annotation_list = list(pd.unique(ad_sc.obs['subclass_label']))\n",
    "tg.plot_cell_annotation_sc(ad_sp, annotation_list,x='x', y='y',spot_size= 60, scale_factor=0.1, perc=0.001)"
   ]
  },
  {
   "cell_type": "markdown",
   "metadata": {
    "id": "epAS_daxRk3D"
   },
   "source": [
    "- Let's try to get a deeper sense of how good this mapping is. A good helper is `plot_training_scores` which gives us four panels:\n",
    "    - The first panels is a histogram of the simlarity score for each training gene. Most genes are mapped with very high similarity (> .9) although few of them have score ~.5. We would like to understand why for these genes the score is lower.\n",
    "    - The second panel shows that there is a neat correlation between the training score of a gene (y-axis) and the sparsity of that gene in the snRNA-seq data (x-axis). Each dot is a training gene. The trend is that the sparser the gene the higher the score: this usually happens because very sparse gene are easier to map, as their pattern is matched by placing a few \"jackpot cells\" in the right spots.\n",
    "    - The third panel is similar to the second one, but contains the gene sparsity of the spatial data. Spatial data are usually more sparse than single cell data, a discrepancy which is often responsible for low quality mapping.\n",
    "    - In the last panel, we show the training scores as a function of the difference in sparsity between the dataset. For genes with comparable sparsity, the mapped gene expression is very similar to that in the spatial data. However, if a gene is quite sparse in one dataset (typically, the spatial data) but not in other, the mapping score is lower. This occurs as Tangram cannot properly matched the gene pattern because of inconsistent amount of dropouts between the datasets."
   ]
  },
  {
   "cell_type": "code",
   "execution_count": null,
   "metadata": {
    "id": "Sfel8UqORk3D",
    "outputId": "1d430dfc-4ee2-4f85-ddeb-aac1535db3aa",
    "ExecuteTime": {
     "start_time": "2023-10-13T05:43:52.200191Z"
    }
   },
   "outputs": [],
   "source": [
    "tg.plot_training_scores(ad_map, bins=10, alpha=.5)"
   ]
  },
  {
   "cell_type": "markdown",
   "metadata": {
    "id": "RFxjJQGRRk3D"
   },
   "source": [
    "- Although the above plots give us a summary of scores at single-gene level, we would need to know _which_ are the genes are mapped with low scores.\n",
    "- These information can be access from the dataframe `.uns['train_genes_df']` from the mapping results; this is the dataframe used to build the four plots above."
   ]
  },
  {
   "cell_type": "markdown",
   "metadata": {
    "id": "TbaqpiKvRk3D"
   },
   "source": [
    "- We want to inspect gene expression of training genes mapped with low scores, to understand the quality of mapping. \n",
    "- First, we need to generate \"new spatial data\" using the mapped single cell: this is done via `project_genes`.\n",
    "- The function accepts as input a mapping (`adata_map`) and corresponding single cell data (`adata_sc`).\n",
    "- The result is a voxel-by-gene `AnnData`, formally similar to `ad_sp`, but containing gene expression from the mapped single cell data rather than Slide-seq."
   ]
  },
  {
   "cell_type": "code",
   "execution_count": null,
   "metadata": {
    "id": "ST8SXlP_Rk3E",
    "outputId": "1e1c9cc3-bc80-41ae-fcfc-76f817739964",
    "ExecuteTime": {
     "start_time": "2023-10-13T05:43:52.200191Z"
    }
   },
   "outputs": [],
   "source": [
    "ad_ge = tg.project_genes(adata_map=ad_map, adata_sc=ad_sc)\n",
    "ad_ge"
   ]
  },
  {
   "cell_type": "markdown",
   "metadata": {
    "id": "oLOl_gf7Rk3E"
   },
   "source": [
    "- We now choose a few training genes mapped with low score."
   ]
  },
  {
   "cell_type": "code",
   "execution_count": null,
   "metadata": {
    "id": "PDEqCeFhRk3E",
    "outputId": "e39ae787-8c1b-4b39-84d1-1984e618049c",
    "ExecuteTime": {
     "start_time": "2023-10-13T05:43:52.200191Z"
    }
   },
   "outputs": [],
   "source": [
    "genes = ['rgs6', 'satb2',  'cdh12']\n",
    "ad_map.uns['train_genes_df'].loc[genes]"
   ]
  },
  {
   "cell_type": "markdown",
   "metadata": {
    "id": "hzyzWTqGRk3E"
   },
   "source": [
    "- To visualize gene patterns, we use the helper `plot_genes`. This function accepts two voxel-by-gene `AnnData`: the actual spatial data  (`adata_measured`), and a Tangram spatial prediction (`adata_predicted`). The function returns gene expression maps from the two spatial `AnnData` on the genes `genes`.\n",
    "- As expected, the predited gene expression is less sparse albeit the main patterns are captured. For these genes, we trust more the mapped gene patterns, as Tangram \"corrects\" gene expression by aligning in space less sparse data."
   ]
  },
  {
   "cell_type": "code",
   "execution_count": null,
   "metadata": {
    "id": "1U_1A3OuRk3E",
    "outputId": "b1e40ba8-9840-4b36-a17f-1b546face73c",
    "ExecuteTime": {
     "start_time": "2023-10-13T05:43:52.200191Z"
    }
   },
   "outputs": [],
   "source": [
    "tg.plot_genes_sc(genes, adata_measured=ad_sp, adata_predicted=ad_ge, spot_size=50, scale_factor=0.1, perc = 0.001, return_figure=False)"
   ]
  },
  {
   "cell_type": "markdown",
   "metadata": {
    "id": "a_CZvtvORk3E"
   },
   "source": [
    "- An even stronger example is found in genes that are not detected in the spatial data, but are detected in the single cell data. They are removed before training with `pp_adatas` function. But tangram could still generate insight on how the spatial patterns look like."
   ]
  },
  {
   "cell_type": "code",
   "execution_count": null,
   "metadata": {
    "id": "SOZC4uPgRk3F",
    "outputId": "ef3b1d76-8570-446a-d317-61c9a696bb8f",
    "ExecuteTime": {
     "start_time": "2023-10-13T05:43:52.200191Z"
    }
   },
   "outputs": [],
   "source": [
    "genes=['mrgprx2', 'muc20', 'chrna2']\n",
    "tg.plot_genes_sc(genes, adata_measured=ad_sp, adata_predicted=ad_ge, spot_size=50, scale_factor=0.1, perc=0.001, return_figure=False)"
   ]
  },
  {
   "cell_type": "markdown",
   "metadata": {
    "id": "Y0xGPNFGRk3F"
   },
   "source": [
    "- So far, we only inspected genes used to align the data (training genes), but the mapped single cell data, `ad_ge` contains the whole transcriptome. That includes more than 26k test genes."
   ]
  },
  {
   "cell_type": "code",
   "execution_count": null,
   "metadata": {
    "id": "6WfNlpC-Rk3F",
    "outputId": "1b5b4a3a-b26f-4dcf-a147-6e7c52443642",
    "ExecuteTime": {
     "start_time": "2023-10-13T05:43:52.200191Z"
    }
   },
   "outputs": [],
   "source": [
    "(ad_ge.var.is_training == False).sum()"
   ]
  },
  {
   "cell_type": "markdown",
   "metadata": {
    "id": "w6bR6-SURk3F"
   },
   "source": [
    "- We can use `plot_genes` to inspect gene expression of non training genes. This is an essential step as prediction of gene expression is the how we validate mapping.\n",
    "- Before doing that, it is convenient to compute the similarity scores of all genes, which can be done by `compare_spatial_geneexp`. This function accepts two spatial `AnnData`s (_ie_ voxel-by-gene), and returns a dataframe with simlarity scores for all genes. Training genes are flagged by the Boolean field `is_training`.\n",
    "- If we also pass single cell `AnnData` to `compare_spatial_geneexp` function like below, a dataframe with additional sparsity columns - sparsity_sc (single cell data sparsity) and sparsity_diff (spatial data sparsity - single cell data sparsity) will return. This is required if we want to call `plot_test_scores` function later with the returned datafrme from `compare_spatial_geneexp` function."
   ]
  },
  {
   "cell_type": "code",
   "execution_count": null,
   "metadata": {
    "id": "ClZLcLyJRk3F",
    "outputId": "ec2c57fa-4c9c-4dc0-adfd-afa6e691af44",
    "ExecuteTime": {
     "start_time": "2023-10-13T05:43:52.200191Z"
    }
   },
   "outputs": [],
   "source": [
    "df_all_genes = tg.compare_spatial_geneexp(ad_ge, ad_sp, ad_sc)\n",
    "df_all_genes"
   ]
  },
  {
   "cell_type": "markdown",
   "metadata": {
    "id": "d5TC-GoQRk3F"
   },
   "source": [
    "- The plot below give us a summary of scores at single-gene level for test genes"
   ]
  },
  {
   "cell_type": "code",
   "execution_count": null,
   "metadata": {
    "ExecuteTime": {
     "start_time": "2023-10-13T05:43:52.200191Z"
    }
   },
   "outputs": [],
   "source": [
    "# tg.plot_auc(df_all_genes)"
   ]
  },
  {
   "cell_type": "markdown",
   "metadata": {
    "id": "jYvVCYKLRk3G"
   },
   "source": [
    "- Let's plot the scores of the test genes and see how they compare to the training genes. Following the strategy in the previous plots, we visualize the scores as a function of the sparsity of the spatial data.\n",
    "- (We have not wrapped this call into a function yet)."
   ]
  },
  {
   "cell_type": "markdown",
   "metadata": {
    "id": "-YmigOvtRk3G"
   },
   "source": [
    "- Again, sparser genes in the spatial data are predicted with low scores, which is due to the presence of dropouts in the spatial data.\n",
    "- Let's choose a few test genes with varied scores and compared predictions vs measured gene expression."
   ]
  },
  {
   "cell_type": "code",
   "execution_count": null,
   "metadata": {
    "id": "fQd9kpy2Rk3G",
    "outputId": "ebd95c02-3b20-4b79-b095-8121af228495",
    "ExecuteTime": {
     "start_time": "2023-10-13T05:43:52.200191Z"
    }
   },
   "outputs": [],
   "source": [
    "genes = ['snap25', 'atp1b1', 'atp1a3', 'ctgf', 'nefh', 'aak1', 'fa2h', ]\n",
    "df_all_genes.loc[genes]"
   ]
  },
  {
   "cell_type": "markdown",
   "metadata": {
    "id": "k0HHphznRk3G"
   },
   "source": [
    "- We can use again `plot_genes` to visualize gene patterns.\n",
    "- Interestingly, the agreement for genes `Atp1b1` or `Apt1a3`, seems less good than that for `Ctgf` and `Nefh`, despite the scores are higher for the former genes. This is because even though the latter gene patterns are localized correctly, their expression values are not so well correlated (for instance, in `Ctgf` the \"bright yellow spot\" is in different part of layer 6b). In contrast, for `Atpb1` the gene expression pattern is largely recover, even though the overall gene expression in the spatial data is more dim."
   ]
  },
  {
   "cell_type": "code",
   "execution_count": null,
   "metadata": {
    "id": "6sMaS6V3Rk3H",
    "outputId": "06a109eb-cb80-4958-f6ac-6fd098aec53d",
    "ExecuteTime": {
     "start_time": "2023-10-13T05:43:52.200191Z"
    }
   },
   "outputs": [],
   "source": [
    "tg.plot_genes_sc(genes, adata_measured=ad_sp, adata_predicted=ad_ge, spot_size=50, scale_factor=0.1, perc=0.001, return_figure=False)"
   ]
  },
  {
   "cell_type": "markdown",
   "metadata": {
    "id": "KymwAybQJaWm"
   },
   "source": [
    "***\n",
    "#### Leave-One-Out Cross Validation (LOOCV)"
   ]
  },
  {
   "cell_type": "markdown",
   "metadata": {
    "id": "EIghyAEVJaWn"
   },
   "source": [
    "- If number of genes is small, Leave-One-Out cross validation (LOOCV) is supported in Tangram to evaluate mapping performance. \n",
    "- LOOCV supported by Tangram:\n",
    "    - Assume the number of genes we have in the dataset is N. \n",
    "    - LOOCV would iterate over and map on the genes dataset N times.\n",
    "    - Each time it hold out one gene as test gene (1 test gene) and trains on the rest of all genes (N-1 training genes).\n",
    "    - After all trainings are done, average test/train score will be computed to evaluate the mapping performance.\n",
    "- Assume all genes we have is the training genes in the example above. Here we demo the LOOCV mapping at cluster level. \n",
    "- Restart the kernel and load single cell, spatial and gene markers data\n",
    "- Run `pp_adatas` to prepare data for mapping"
   ]
  },
  {
   "cell_type": "code",
   "execution_count": null,
   "metadata": {
    "id": "aUu0ibKfJaWn",
    "ExecuteTime": {
     "start_time": "2023-10-13T05:43:52.200191Z"
    }
   },
   "outputs": [],
   "source": [
    "import os, sys\n",
    "import numpy as np\n",
    "import pandas as pd\n",
    "import matplotlib.pyplot as plt\n",
    "import scanpy as sc\n",
    "import torch\n",
    "import tg"
   ]
  },
  {
   "cell_type": "code",
   "execution_count": null,
   "metadata": {
    "id": "L0FWV1ezJaWn",
    "outputId": "73b91b2b-4937-486a-f44b-f53427679082",
    "ExecuteTime": {
     "start_time": "2023-10-13T05:43:52.201177300Z"
    }
   },
   "outputs": [],
   "source": [
    "path = os.path.join(origin_path, 'slideseq_MOp_1217.h5ad')\n",
    "ad_sp = sc.read_h5ad(path)\n",
    "\n",
    "path = os.path.join(origin_path,'mop_sn_tutorial.h5ad')\n",
    "ad_sc = sc.read_h5ad(path)\n",
    "sc.pp.normalize_total(ad_sc)\n",
    "\n",
    "df_genes = pd.read_csv(origin_path + 'MOp_markers.csv', index_col=0)\n",
    "markers = np.reshape(df_genes.values, (-1, ))\n",
    "markers = list(markers)\n",
    "\n",
    "tg.pp_adatas(ad_sc, ad_sp, genes=markers)"
   ]
  },
  {
   "cell_type": "code",
   "execution_count": null,
   "metadata": {
    "id": "LxlA2PCzJaWn",
    "outputId": "3229db45-9d63-4898-b865-b366fb33c011",
    "ExecuteTime": {
     "start_time": "2023-10-13T05:43:52.201177300Z"
    }
   },
   "outputs": [],
   "source": [
    "cv_dict, ad_ge_cv, df = tg.cross_val(ad_sc, \n",
    "                                     ad_sp, \n",
    "                                     device='cuda:0', \n",
    "                                     mode='clusters',\n",
    "                                     cv_mode='loo',\n",
    "                                     num_epochs=1000,\n",
    "                                     cluster_label='subclass_label',\n",
    "                                     return_gene_pred=True,\n",
    "                                     verbose=False,\n",
    "                                     )"
   ]
  },
  {
   "cell_type": "markdown",
   "metadata": {
    "id": "MWC1vkN9JaWn"
   },
   "source": [
    "* `cross_val` function will return `cv_dict` and `ad_ge_cv` and `df_test_genes` in `LOOCV` mode. `cv_dict` contains the average score for cross validation, `ad_ge_cv` stores the predicted expression value for each gene, and `df_test_genes` contains scores and sparsity for each test genes.\n"
   ]
  },
  {
   "cell_type": "code",
   "execution_count": null,
   "metadata": {
    "id": "3XB5TvhsJaWn",
    "outputId": "a7e7e370-0858-4aa2-c721-702855608460",
    "ExecuteTime": {
     "start_time": "2023-10-13T05:43:52.201177300Z"
    }
   },
   "outputs": [],
   "source": [
    "cv_dict"
   ]
  },
  {
   "cell_type": "markdown",
   "metadata": {
    "id": "fDrGA7VoJaWo"
   },
   "source": [
    "* We can use `plot_test_scores` to display an overview of the cross validation test scores of each gene vs. sparsity. "
   ]
  },
  {
   "cell_type": "code",
   "execution_count": null,
   "metadata": {
    "id": "s8LZ_3A3JaWo",
    "outputId": "74e45a1f-379b-406b-ce7c-9fb936b33ccd",
    "ExecuteTime": {
     "start_time": "2023-10-13T05:43:52.201177300Z"
    }
   },
   "outputs": [],
   "source": [
    "tg.plot_test_scores(df, bins=10, alpha=.7)"
   ]
  },
  {
   "cell_type": "markdown",
   "metadata": {
    "id": "2Kx-LeSqJaWo"
   },
   "source": [
    "- Now, let's compare a few genes between their ground truth and cross-validation predicted spatial pattern by calling the function `plot_genes`"
   ]
  },
  {
   "cell_type": "code",
   "execution_count": null,
   "metadata": {
    "id": "QUio9vLsJaWo",
    "outputId": "740b5d17-17f0-4f7c-85cf-dfb7327b6267",
    "ExecuteTime": {
     "start_time": "2023-10-13T05:43:52.201177300Z"
    }
   },
   "outputs": [],
   "source": [
    "ad_ge_cv.var.sort_values(by='test_score', ascending=False)"
   ]
  },
  {
   "cell_type": "code",
   "execution_count": null,
   "metadata": {
    "id": "sI5H4nO9JaWo",
    "ExecuteTime": {
     "start_time": "2023-10-13T05:43:52.238722Z"
    }
   },
   "outputs": [],
   "source": [
    "ranked_genes = list(ad_ge_cv.var.sort_values(by='test_score', ascending=False).index.values)\n",
    "top_genes = ranked_genes[:3]\n",
    "bottom_genes = ranked_genes[-3:]"
   ]
  },
  {
   "cell_type": "code",
   "execution_count": null,
   "metadata": {
    "id": "piY00gdhJaWo",
    "outputId": "a4a5aa7c-1f1a-46b2-b1d9-eab6b7ff12d9",
    "ExecuteTime": {
     "start_time": "2023-10-13T05:43:52.239721500Z"
    }
   },
   "outputs": [],
   "source": [
    "tg.plot_genes_sc(genes=top_genes, adata_measured=ad_sp, adata_predicted=ad_ge_cv, x = 'x', y='y',spot_size=50, scale_factor=0.1, perc=0.001, return_figure=False)"
   ]
  },
  {
   "cell_type": "code",
   "execution_count": null,
   "metadata": {
    "id": "SzqLFYC2JaWo",
    "outputId": "834c4809-a2d5-4529-de3b-6400f1faa0bc",
    "ExecuteTime": {
     "start_time": "2023-10-13T05:43:52.239721500Z"
    }
   },
   "outputs": [],
   "source": [
    "tg.plot_genes_sc(genes=bottom_genes, adata_measured=ad_sp, adata_predicted=ad_ge_cv,x='x', y='y', spot_size=50, scale_factor=0.1, perc=0.001, return_figure=False)"
   ]
  }
 ],
 "metadata": {
  "accelerator": "GPU",
  "colab": {
   "collapsed_sections": [],
   "name": "tangram_tutorial.ipynb",
   "provenance": []
  },
  "interpreter": {
   "hash": "3ac21f8bf730324e87b2ab04b60f02f57ab9f380889952ce3b825e9207797ed6"
  },
  "kernelspec": {
   "display_name": "Python 3 (ipykernel)",
   "language": "python",
   "name": "python3"
  },
  "language_info": {
   "codemirror_mode": {
    "name": "ipython",
    "version": 3
   },
   "file_extension": ".py",
   "mimetype": "text/x-python",
   "name": "python",
   "nbconvert_exporter": "python",
   "pygments_lexer": "ipython3",
   "version": "3.8.12"
  }
 },
 "nbformat": 4,
 "nbformat_minor": 4
}
